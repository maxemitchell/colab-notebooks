{
  "nbformat": 4,
  "nbformat_minor": 0,
  "metadata": {
    "colab": {
      "name": "Stylegan2-ada Custom Training.ipynb",
      "provenance": [],
      "collapsed_sections": [
        "HeS9tDvt61VG",
        "lohotw1FqC54"
      ],
      "toc_visible": true,
      "machine_shape": "hm",
      "include_colab_link": true
    },
    "kernelspec": {
      "name": "python3",
      "display_name": "Python 3"
    },
    "accelerator": "GPU"
  },
  "cells": [
    {
      "cell_type": "markdown",
      "metadata": {
        "id": "view-in-github",
        "colab_type": "text"
      },
      "source": [
        "<a href=\"https://colab.research.google.com/github/maxemitchell/colab-notebooks/blob/main/Stylegan2_ada_Custom_Training.ipynb\" target=\"_parent\"><img src=\"https://colab.research.google.com/assets/colab-badge.svg\" alt=\"Open In Colab\"/></a>"
      ]
    },
    {
      "cell_type": "markdown",
      "metadata": {
        "id": "cPI5E5y0pujD"
      },
      "source": [
        "# Custom Training StyleGan2-ADA"
      ]
    },
    {
      "cell_type": "markdown",
      "metadata": {
        "id": "SI_i1MwgpzOD"
      },
      "source": [
        "StyleGAN2-ADA only work with Tensorflow 1. Run the next cell before anything else to make sure we’re using TF1 and not TF2."
      ]
    },
    {
      "cell_type": "code",
      "metadata": {
        "id": "iKYAU7Wub3WW",
        "colab": {
          "base_uri": "https://localhost:8080/"
        },
        "outputId": "aca30cd8-7637-4d89-85f9-c0c6b0c12403"
      },
      "source": [
        "%tensorflow_version 1.x"
      ],
      "execution_count": null,
      "outputs": [
        {
          "output_type": "stream",
          "text": [
            "TensorFlow 1.x selected.\n"
          ],
          "name": "stdout"
        }
      ]
    },
    {
      "cell_type": "code",
      "metadata": {
        "id": "51ei6d5kxVDm",
        "colab": {
          "base_uri": "https://localhost:8080/"
        },
        "outputId": "e90dcc26-5940-4916-83ed-3576a4c85255"
      },
      "source": [
        "!nvidia-smi"
      ],
      "execution_count": null,
      "outputs": [
        {
          "output_type": "stream",
          "text": [
            "Sun Jan 17 18:06:07 2021       \n",
            "+-----------------------------------------------------------------------------+\n",
            "| NVIDIA-SMI 460.27.04    Driver Version: 418.67       CUDA Version: 10.1     |\n",
            "|-------------------------------+----------------------+----------------------+\n",
            "| GPU  Name        Persistence-M| Bus-Id        Disp.A | Volatile Uncorr. ECC |\n",
            "| Fan  Temp  Perf  Pwr:Usage/Cap|         Memory-Usage | GPU-Util  Compute M. |\n",
            "|                               |                      |               MIG M. |\n",
            "|===============================+======================+======================|\n",
            "|   0  Tesla V100-SXM2...  Off  | 00000000:00:04.0 Off |                    0 |\n",
            "| N/A   35C    P0    23W / 300W |      0MiB / 16130MiB |      0%      Default |\n",
            "|                               |                      |                 ERR! |\n",
            "+-------------------------------+----------------------+----------------------+\n",
            "                                                                               \n",
            "+-----------------------------------------------------------------------------+\n",
            "| Processes:                                                                  |\n",
            "|  GPU   GI   CI        PID   Type   Process name                  GPU Memory |\n",
            "|        ID   ID                                                   Usage      |\n",
            "|=============================================================================|\n",
            "|  No running processes found                                                 |\n",
            "+-----------------------------------------------------------------------------+\n"
          ],
          "name": "stdout"
        }
      ]
    },
    {
      "cell_type": "markdown",
      "metadata": {
        "id": "5YcUMPQp6ipP"
      },
      "source": [
        "## Install Repo to Google Drive\n",
        "\n",
        "Colab is a little funky with training. I’ve found the best way to do this is to install the repo directly into your Google Drive folder.\n",
        "\n",
        "First, mount your Drive to the Colab notebook: "
      ]
    },
    {
      "cell_type": "code",
      "metadata": {
        "id": "pxxYlEKI9Gis",
        "colab": {
          "base_uri": "https://localhost:8080/"
        },
        "outputId": "07107c0f-b066-4efe-b9d0-1137047f1208"
      },
      "source": [
        "from google.colab import drive\n",
        "drive.mount('/content/drive')"
      ],
      "execution_count": null,
      "outputs": [
        {
          "output_type": "stream",
          "text": [
            "Mounted at /content/drive\n"
          ],
          "name": "stdout"
        }
      ]
    },
    {
      "cell_type": "markdown",
      "metadata": {
        "id": "epV6TDzAjox1"
      },
      "source": [
        "Next, run this cell. If you’re already installed the repo, it will skip the installation process and change into the repo’s directory. If you haven’t installed it, it will install all the files necessary."
      ]
    },
    {
      "cell_type": "code",
      "metadata": {
        "id": "8HX77jscX2zV",
        "colab": {
          "base_uri": "https://localhost:8080/"
        },
        "outputId": "14e02dab-2e49-4ad3-d885-e22fb7c36e2e"
      },
      "source": [
        "import os\n",
        "if os.path.isdir(\"/content/drive/MyDrive/colab-sg2-ada\"):\n",
        "    %cd \"/content/drive/MyDrive/colab-sg2-ada/stylegan2-ada\"\n",
        "else:\n",
        "    #install script\n",
        "    %cd \"/content/drive/MyDrive/\"\n",
        "    !mkdir colab-sg2-ada\n",
        "    %cd colab-sg2-ada\n",
        "    !git clone https://github.com/dvschultz/stylegan2-ada\n",
        "    %cd stylegan2-ada\n",
        "    !mkdir downloads\n",
        "    !mkdir datasets"
      ],
      "execution_count": null,
      "outputs": [
        {
          "output_type": "stream",
          "text": [
            "/content/drive/MyDrive/colab-sg2-ada/stylegan2-ada\n"
          ],
          "name": "stdout"
        }
      ]
    },
    {
      "cell_type": "code",
      "metadata": {
        "id": "G7oj_kBaemol",
        "colab": {
          "base_uri": "https://localhost:8080/"
        },
        "outputId": "8ecaa932-8059-4ea8-c356-031e93dc7e25"
      },
      "source": [
        "%cd \"/content/drive/My Drive/colab-sg2-ada/stylegan2-ada\"\n",
        "!git config --global user.name \"Max\"\n",
        "!git config --global user.email \"maxemitchell@gmail.com\"\n",
        "!git fetch origin\n",
        "!git checkout origin/main -- train.py"
      ],
      "execution_count": null,
      "outputs": [
        {
          "output_type": "stream",
          "text": [
            "/content/drive/My Drive/colab-sg2-ada/stylegan2-ada\n",
            "remote: Enumerating objects: 5, done.\u001b[K\n",
            "remote: Counting objects: 100% (5/5), done.\u001b[K\n",
            "remote: Compressing objects: 100% (3/3), done.\u001b[K\n",
            "remote: Total 3 (delta 2), reused 0 (delta 0), pack-reused 0\u001b[K\n",
            "Unpacking objects: 100% (3/3), done.\n",
            "From https://github.com/dvschultz/stylegan2-ada\n",
            "   036ac7c..8a5fa0e  main       -> origin/main\n"
          ],
          "name": "stdout"
        }
      ]
    },
    {
      "cell_type": "markdown",
      "metadata": {
        "id": "HeS9tDvt61VG"
      },
      "source": [
        "## Convert dataset to .tfrecords"
      ]
    },
    {
      "cell_type": "markdown",
      "metadata": {
        "id": "_Q58MJbckLUc"
      },
      "source": [
        "**Note: You only need to do this once per dataset. If you have already run this and are returning to conntinue training, skip these cells.**\n",
        "\n",
        "Next we need to convert our image dataset to a format that StyleGAN2-ADA can read from. There are two options here. You can upload your dataset directly to Colab (as a zipped file), or you can upload it to Drive directly and read it from there."
      ]
    },
    {
      "cell_type": "code",
      "metadata": {
        "id": "8JUP51nJdEjz"
      },
      "source": [
        "#if you manually uploaded your dataset to Colab, unzip it\n",
        "zip_path = \"/content/drive/MyDrive/colab-sg2-ada/stylegan2-ada/datasets/squares-1024-reflected.zip\"\n",
        "\n",
        "# !unzip {zip_path} -d /content/\n",
        "# !7z x {zip_path} -oc:/content/\n",
        "!jar -xf  {zip_path} /content/"
      ],
      "execution_count": null,
      "outputs": []
    },
    {
      "cell_type": "markdown",
      "metadata": {
        "id": "D0QH0nzjlbEE"
      },
      "source": [
        "Now that your image dataset is uploaded, we need to convert it to the `.tfrecords` format.\n",
        "\n",
        "Depending on the resolution of your images and how many you have, this can take a while."
      ]
    },
    {
      "cell_type": "code",
      "metadata": {
        "id": "T-BZHhBe7AvO",
        "colab": {
          "base_uri": "https://localhost:8080/"
        },
        "outputId": "e2a39d1c-be47-4376-bca5-1fae00603bae"
      },
      "source": [
        "#update this to the path to your image folder\n",
        "dataset_path = \"/content/drive/MyDrive/colab-sg2-ada/stylegan2-ada/datasets/squares-1024-reflected\"\n",
        "#give your dataset a name\n",
        "dataset_name = \"ukiyoe-1024-reflected\"\n",
        "\n",
        "#you don't need to edit anything here\n",
        "!python dataset_tool.py create_from_images ./datasets/{dataset_name} {dataset_path}"
      ],
      "execution_count": null,
      "outputs": [
        {
          "output_type": "stream",
          "text": [
            "Loading images from \"/content/drive/MyDrive/colab-sg2-ada/stylegan2-ada/datasets/squares-1024-reflected\"\n",
            "Creating dataset \"./datasets/ukiyoe-1024-reflected\"\n",
            "Added 3669 images.\n"
          ],
          "name": "stdout"
        }
      ]
    },
    {
      "cell_type": "markdown",
      "metadata": {
        "id": "8DvTupHzP2s_"
      },
      "source": [
        "## Train a custom model\n",
        "\n",
        "We’re ready to start training! There are numerous arguments to training, what’s listed below are the most popular options. To see all the options, run the following cell."
      ]
    },
    {
      "cell_type": "code",
      "metadata": {
        "id": "Fxu7CA0Qb1Yd"
      },
      "source": [
        "!python train.py --help"
      ],
      "execution_count": null,
      "outputs": []
    },
    {
      "cell_type": "code",
      "metadata": {
        "id": "jOftFoyiDU3s",
        "colab": {
          "base_uri": "https://localhost:8080/"
        },
        "outputId": "914d355d-af69-40eb-b124-0fb6c87639f6"
      },
      "source": [
        "#this name must EXACTLY match the dataset name you used when creating the .tfrecords file\n",
        "dataset_name = \"ukiyoe-1024-reflected\"\n",
        "#how often should the model generate samples and a .pkl file\n",
        "snapshot_count = 8\n",
        "#should the images be mirrored left to right?\n",
        "mirrored = True\n",
        "#should the images be mirrored top to bottom?\n",
        "mirroredY = False\n",
        "#metrics? \n",
        "metric_list = None #\"fid50k_full\"\n",
        "#augments\n",
        "augs = \"bg\"\n",
        "# augs = \"bgc\"\n",
        "\n",
        "#\n",
        "# this is the most important cell to update\n",
        "#\n",
        "# running it for the first time? set it to ffhq(+resolution)\n",
        "# resuming? get the path to your latest .pkl file and use that\n",
        "resume_from = \"/content/drive/MyDrive/colab-sg2-ada/stylegan2-ada/results/00032-ukiyoe-1024-reflected-mirror-11gb-gpu-bg-resumecustom/network-snapshot-000384.pkl\"\n",
        "# resume_from = \"ffhq1024\"\n",
        "\n",
        "#don't edit this unless you know what you're doing :)\n",
        "!python train.py --outdir ./results --snap={snapshot_count} --cfg=11gb-gpu --data=./datasets/{dataset_name} --augpipe={augs} --mirror={mirrored} --mirrory={mirroredY} --metrics={metric_list} --resume={resume_from}"
      ],
      "execution_count": null,
      "outputs": [
        {
          "output_type": "stream",
          "text": [
            "tcmalloc: large alloc 4294967296 bytes == 0x909e000 @  0x7f70a5231001 0x7f70a24744ff 0x7f70a24c4b08 0x7f70a24c8ac7 0x7f70a25671a3 0x50a4a5 0x50cc96 0x507be4 0x508ec2 0x594a01 0x549e8f 0x5515c1 0x5a9dac 0x50a433 0x50cc96 0x507be4 0x588e5c 0x59fd0e 0x50d256 0x507be4 0x588e5c 0x59fd0e 0x50d256 0x507be4 0x588e5c 0x59fd0e 0x50d256 0x5095c8 0x50a2fd 0x50beb4 0x507be4\n",
            "tcmalloc: large alloc 4294967296 bytes == 0x7f6eb7064000 @  0x7f70a522f1e7 0x7f70a247441e 0x7f70a24c4c2b 0x7f70a24c530f 0x7f70a25670a3 0x50a4a5 0x50cc96 0x507be4 0x509900 0x50a2fd 0x50cc96 0x507be4 0x509900 0x50a2fd 0x50cc96 0x507be4 0x509900 0x50a2fd 0x50cc96 0x5095c8 0x50a2fd 0x50beb4 0x507be4 0x509900 0x50a2fd 0x50beb4 0x507be4 0x509900 0x50a2fd 0x50cc96 0x507be4\n",
            "tcmalloc: large alloc 4294967296 bytes == 0x7f6db6062000 @  0x7f70a522f1e7 0x7f70a247441e 0x7f70a24c4c2b 0x7f70a24c530f 0x7f704ddb40c5 0x7f704d737902 0x7f704d737eb2 0x7f704d6f0c3e 0x50a12f 0x50beb4 0x5095c8 0x50a2fd 0x50beb4 0x507be4 0x588c8b 0x59fd0e 0x50d256 0x507be4 0x509900 0x50a2fd 0x50beb4 0x507be4 0x509900 0x50a2fd 0x50beb4 0x5095c8 0x50a2fd 0x50beb4 0x507be4 0x508ec2 0x594a01\n",
            "\n",
            "Training options:\n",
            "{\n",
            "  \"G_args\": {\n",
            "    \"func_name\": \"training.networks.G_main\",\n",
            "    \"fmap_base\": 16384,\n",
            "    \"fmap_max\": 512,\n",
            "    \"mapping_layers\": 8,\n",
            "    \"num_fp16_res\": 4,\n",
            "    \"conv_clamp\": 256\n",
            "  },\n",
            "  \"D_args\": {\n",
            "    \"func_name\": \"training.networks.D_main\",\n",
            "    \"mbstd_group_size\": 4,\n",
            "    \"fmap_base\": 16384,\n",
            "    \"fmap_max\": 512,\n",
            "    \"num_fp16_res\": 4,\n",
            "    \"conv_clamp\": 256\n",
            "  },\n",
            "  \"G_opt_args\": {\n",
            "    \"beta1\": 0.0,\n",
            "    \"beta2\": 0.99,\n",
            "    \"learning_rate\": 0.002\n",
            "  },\n",
            "  \"D_opt_args\": {\n",
            "    \"beta1\": 0.0,\n",
            "    \"beta2\": 0.99,\n",
            "    \"learning_rate\": 0.002\n",
            "  },\n",
            "  \"loss_args\": {\n",
            "    \"func_name\": \"training.loss.stylegan2\",\n",
            "    \"r1_gamma\": 10\n",
            "  },\n",
            "  \"augment_args\": {\n",
            "    \"class_name\": \"training.augment.AdaptiveAugment\",\n",
            "    \"tune_heuristic\": \"rt\",\n",
            "    \"tune_target\": 0.6,\n",
            "    \"apply_func\": \"training.augment.augment_pipeline\",\n",
            "    \"apply_args\": {\n",
            "      \"xflip\": 1,\n",
            "      \"rotate90\": 1,\n",
            "      \"xint\": 1,\n",
            "      \"scale\": 1,\n",
            "      \"rotate\": 1,\n",
            "      \"aniso\": 1,\n",
            "      \"xfrac\": 1\n",
            "    },\n",
            "    \"tune_kimg\": 100\n",
            "  },\n",
            "  \"num_gpus\": 1,\n",
            "  \"image_snapshot_ticks\": 8,\n",
            "  \"network_snapshot_ticks\": 8,\n",
            "  \"train_dataset_args\": {\n",
            "    \"path\": \"./datasets/ukiyoe-1024-reflected\",\n",
            "    \"max_label_size\": 0,\n",
            "    \"use_raw\": false,\n",
            "    \"resolution\": 1024,\n",
            "    \"mirror_augment\": true,\n",
            "    \"mirror_augment_v\": false\n",
            "  },\n",
            "  \"metric_arg_list\": [],\n",
            "  \"metric_dataset_args\": {\n",
            "    \"path\": \"./datasets/ukiyoe-1024-reflected\",\n",
            "    \"max_label_size\": 0,\n",
            "    \"use_raw\": false,\n",
            "    \"resolution\": 1024,\n",
            "    \"mirror_augment\": true,\n",
            "    \"mirror_augment_v\": false\n",
            "  },\n",
            "  \"total_kimg\": 25000,\n",
            "  \"minibatch_size\": 4,\n",
            "  \"minibatch_gpu\": 4,\n",
            "  \"G_smoothing_kimg\": 10,\n",
            "  \"G_smoothing_rampup\": null,\n",
            "  \"resume_pkl\": \"/content/drive/MyDrive/colab-sg2-ada/stylegan2-ada/results/00032-ukiyoe-1024-reflected-mirror-11gb-gpu-bg-resumecustom/network-snapshot-000384.pkl\",\n",
            "  \"run_dir\": \"./results/00034-ukiyoe-1024-reflected-mirror-11gb-gpu-bg-resumecustom\"\n",
            "}\n",
            "\n",
            "Output directory:  ./results/00034-ukiyoe-1024-reflected-mirror-11gb-gpu-bg-resumecustom\n",
            "Training data:     ./datasets/ukiyoe-1024-reflected\n",
            "Training length:   25000 kimg\n",
            "Resolution:        1024\n",
            "Number of GPUs:    1\n",
            "\n",
            "Creating output directory...\n",
            "Loading training set...\n",
            "tcmalloc: large alloc 4294967296 bytes == 0x7f6ca61a4000 @  0x7f70a5231001 0x7f70a24744ff 0x7f70a24c4b08 0x7f70a24c8ac7 0x7f70a25671a3 0x50a4a5 0x50cc96 0x507be4 0x508ec2 0x594a01 0x549e8f 0x5515c1 0x5a9dac 0x50a433 0x50cc96 0x507be4 0x588e5c 0x59fd0e 0x50d256 0x507be4 0x588e5c 0x59fd0e 0x50d256 0x507be4 0x588e5c 0x59fd0e 0x50d256 0x5095c8 0x50a2fd 0x50beb4 0x507be4\n",
            "tcmalloc: large alloc 4294967296 bytes == 0x7f6ba59a4000 @  0x7f70a522f1e7 0x7f70a247441e 0x7f70a24c4c2b 0x7f70a24c530f 0x7f70a25670a3 0x50a4a5 0x50cc96 0x507be4 0x509900 0x50a2fd 0x50cc96 0x507be4 0x509900 0x50a2fd 0x50cc96 0x507be4 0x509900 0x50a2fd 0x50cc96 0x5095c8 0x50a2fd 0x50beb4 0x507be4 0x509900 0x50a2fd 0x50beb4 0x507be4 0x509900 0x50a2fd 0x50cc96 0x507be4\n",
            "tcmalloc: large alloc 4294967296 bytes == 0x7f6ba59a4000 @  0x7f70a522f1e7 0x7f70a247441e 0x7f70a24c4c2b 0x7f70a24c530f 0x7f704ddb40c5 0x7f704d737902 0x7f704d737eb2 0x7f704d6f0c3e 0x50a12f 0x50beb4 0x5095c8 0x50a2fd 0x50beb4 0x507be4 0x588c8b 0x59fd0e 0x50d256 0x507be4 0x509900 0x50a2fd 0x50beb4 0x507be4 0x509900 0x50a2fd 0x50beb4 0x5095c8 0x50a2fd 0x50beb4 0x507be4 0x508ec2 0x594a01\n",
            "Image shape: [3, 1024, 1024]\n",
            "Label shape: [0]\n",
            "\n",
            "Constructing networks...\n",
            "Setting up TensorFlow plugin \"fused_bias_act.cu\": Compiling... Loading... Done.\n",
            "Setting up TensorFlow plugin \"upfirdn_2d.cu\": Compiling... Loading... Done.\n",
            "Resuming from \"/content/drive/MyDrive/colab-sg2-ada/stylegan2-ada/results/00032-ukiyoe-1024-reflected-mirror-11gb-gpu-bg-resumecustom/network-snapshot-000384.pkl\"\n",
            "\n",
            "G                               Params    OutputShape          WeightShape     \n",
            "---                             ---       ---                  ---             \n",
            "latents_in                      -         (?, 512)             -               \n",
            "labels_in                       -         (?, 0)               -               \n",
            "epochs                          1         ()                   ()              \n",
            "epochs_1                        1         ()                   ()              \n",
            "G_mapping/Normalize             -         (?, 512)             -               \n",
            "G_mapping/Dense0                262656    (?, 512)             (512, 512)      \n",
            "G_mapping/Dense1                262656    (?, 512)             (512, 512)      \n",
            "G_mapping/Dense2                262656    (?, 512)             (512, 512)      \n",
            "G_mapping/Dense3                262656    (?, 512)             (512, 512)      \n",
            "G_mapping/Dense4                262656    (?, 512)             (512, 512)      \n",
            "G_mapping/Dense5                262656    (?, 512)             (512, 512)      \n",
            "G_mapping/Dense6                262656    (?, 512)             (512, 512)      \n",
            "G_mapping/Dense7                262656    (?, 512)             (512, 512)      \n",
            "G_mapping/Broadcast             -         (?, 18, 512)         -               \n",
            "dlatent_avg                     -         (512,)               -               \n",
            "Truncation/Lerp                 -         (?, 18, 512)         -               \n",
            "G_synthesis/4x4/Const           8192      (?, 512, 4, 4)       (1, 512, 4, 4)  \n",
            "G_synthesis/4x4/Conv            2622465   (?, 512, 4, 4)       (3, 3, 512, 512)\n",
            "G_synthesis/4x4/ToRGB           264195    (?, 3, 4, 4)         (1, 1, 512, 3)  \n",
            "G_synthesis/8x8/Conv0_up        2622465   (?, 512, 8, 8)       (3, 3, 512, 512)\n",
            "G_synthesis/8x8/Conv1           2622465   (?, 512, 8, 8)       (3, 3, 512, 512)\n",
            "G_synthesis/8x8/Upsample        -         (?, 3, 8, 8)         -               \n",
            "G_synthesis/8x8/ToRGB           264195    (?, 3, 8, 8)         (1, 1, 512, 3)  \n",
            "G_synthesis/16x16/Conv0_up      2622465   (?, 512, 16, 16)     (3, 3, 512, 512)\n",
            "G_synthesis/16x16/Conv1         2622465   (?, 512, 16, 16)     (3, 3, 512, 512)\n",
            "G_synthesis/16x16/Upsample      -         (?, 3, 16, 16)       -               \n",
            "G_synthesis/16x16/ToRGB         264195    (?, 3, 16, 16)       (1, 1, 512, 3)  \n",
            "G_synthesis/32x32/Conv0_up      2622465   (?, 512, 32, 32)     (3, 3, 512, 512)\n",
            "G_synthesis/32x32/Conv1         2622465   (?, 512, 32, 32)     (3, 3, 512, 512)\n",
            "G_synthesis/32x32/Upsample      -         (?, 3, 32, 32)       -               \n",
            "G_synthesis/32x32/ToRGB         264195    (?, 3, 32, 32)       (1, 1, 512, 3)  \n",
            "G_synthesis/64x64/Conv0_up      2622465   (?, 512, 64, 64)     (3, 3, 512, 512)\n",
            "G_synthesis/64x64/Conv1         2622465   (?, 512, 64, 64)     (3, 3, 512, 512)\n",
            "G_synthesis/64x64/Upsample      -         (?, 3, 64, 64)       -               \n",
            "G_synthesis/64x64/ToRGB         264195    (?, 3, 64, 64)       (1, 1, 512, 3)  \n",
            "G_synthesis/128x128/Conv0_up    1442561   (?, 256, 128, 128)   (3, 3, 512, 256)\n",
            "G_synthesis/128x128/Conv1       721409    (?, 256, 128, 128)   (3, 3, 256, 256)\n",
            "G_synthesis/128x128/Upsample    -         (?, 3, 128, 128)     -               \n",
            "G_synthesis/128x128/ToRGB       132099    (?, 3, 128, 128)     (1, 1, 256, 3)  \n",
            "G_synthesis/256x256/Conv0_up    426369    (?, 128, 256, 256)   (3, 3, 256, 128)\n",
            "G_synthesis/256x256/Conv1       213249    (?, 128, 256, 256)   (3, 3, 128, 128)\n",
            "G_synthesis/256x256/Upsample    -         (?, 3, 256, 256)     -               \n",
            "G_synthesis/256x256/ToRGB       66051     (?, 3, 256, 256)     (1, 1, 128, 3)  \n",
            "G_synthesis/512x512/Conv0_up    139457    (?, 64, 512, 512)    (3, 3, 128, 64) \n",
            "G_synthesis/512x512/Conv1       69761     (?, 64, 512, 512)    (3, 3, 64, 64)  \n",
            "G_synthesis/512x512/Upsample    -         (?, 3, 512, 512)     -               \n",
            "G_synthesis/512x512/ToRGB       33027     (?, 3, 512, 512)     (1, 1, 64, 3)   \n",
            "G_synthesis/1024x1024/Conv0_up  51297     (?, 32, 1024, 1024)  (3, 3, 64, 32)  \n",
            "G_synthesis/1024x1024/Conv1     25665     (?, 32, 1024, 1024)  (3, 3, 32, 32)  \n",
            "G_synthesis/1024x1024/Upsample  -         (?, 3, 1024, 1024)   -               \n",
            "G_synthesis/1024x1024/ToRGB     16515     (?, 3, 1024, 1024)   (1, 1, 32, 3)   \n",
            "---                             ---       ---                  ---             \n",
            "Total                           30370062                                       \n",
            "\n",
            "\n",
            "D                     Params    OutputShape          WeightShape     \n",
            "---                   ---       ---                  ---             \n",
            "images_in             -         (?, 3, 1024, 1024)   -               \n",
            "labels_in             -         (?, 0)               -               \n",
            "1024x1024/FromRGB     128       (?, 32, 1024, 1024)  (1, 1, 3, 32)   \n",
            "1024x1024/Conv0       9248      (?, 32, 1024, 1024)  (3, 3, 32, 32)  \n",
            "1024x1024/Conv1_down  18496     (?, 64, 512, 512)    (3, 3, 32, 64)  \n",
            "1024x1024/Skip        2048      (?, 64, 512, 512)    (1, 1, 32, 64)  \n",
            "512x512/Conv0         36928     (?, 64, 512, 512)    (3, 3, 64, 64)  \n",
            "512x512/Conv1_down    73856     (?, 128, 256, 256)   (3, 3, 64, 128) \n",
            "512x512/Skip          8192      (?, 128, 256, 256)   (1, 1, 64, 128) \n",
            "256x256/Conv0         147584    (?, 128, 256, 256)   (3, 3, 128, 128)\n",
            "256x256/Conv1_down    295168    (?, 256, 128, 128)   (3, 3, 128, 256)\n",
            "256x256/Skip          32768     (?, 256, 128, 128)   (1, 1, 128, 256)\n",
            "128x128/Conv0         590080    (?, 256, 128, 128)   (3, 3, 256, 256)\n",
            "128x128/Conv1_down    1180160   (?, 512, 64, 64)     (3, 3, 256, 512)\n",
            "128x128/Skip          131072    (?, 512, 64, 64)     (1, 1, 256, 512)\n",
            "64x64/Conv0           2359808   (?, 512, 64, 64)     (3, 3, 512, 512)\n",
            "64x64/Conv1_down      2359808   (?, 512, 32, 32)     (3, 3, 512, 512)\n",
            "64x64/Skip            262144    (?, 512, 32, 32)     (1, 1, 512, 512)\n",
            "32x32/Conv0           2359808   (?, 512, 32, 32)     (3, 3, 512, 512)\n",
            "32x32/Conv1_down      2359808   (?, 512, 16, 16)     (3, 3, 512, 512)\n",
            "32x32/Skip            262144    (?, 512, 16, 16)     (1, 1, 512, 512)\n",
            "16x16/Conv0           2359808   (?, 512, 16, 16)     (3, 3, 512, 512)\n",
            "16x16/Conv1_down      2359808   (?, 512, 8, 8)       (3, 3, 512, 512)\n",
            "16x16/Skip            262144    (?, 512, 8, 8)       (1, 1, 512, 512)\n",
            "8x8/Conv0             2359808   (?, 512, 8, 8)       (3, 3, 512, 512)\n",
            "8x8/Conv1_down        2359808   (?, 512, 4, 4)       (3, 3, 512, 512)\n",
            "8x8/Skip              262144    (?, 512, 4, 4)       (1, 1, 512, 512)\n",
            "4x4/MinibatchStddev   -         (?, 513, 4, 4)       -               \n",
            "4x4/Conv              2364416   (?, 512, 4, 4)       (3, 3, 513, 512)\n",
            "4x4/Dense0            4194816   (?, 512)             (8192, 512)     \n",
            "Output                513       (?, 1)               (512, 1)        \n",
            "---                   ---       ---                  ---             \n",
            "Total                 29012513                                       \n",
            "\n",
            "Exporting sample images...\n",
            "Replicating networks across 1 GPUs...\n",
            "Initializing augmentations...\n",
            "Setting up optimizers...\n",
            "Constructing training graph...\n",
            "Finalizing training ops...\n",
            "Initializing metrics...\n",
            "Training for 25000 kimg...\n",
            "\n",
            "tick 0     kimg 0.0      time 4m 23s       sec/tick 87.0    sec/kimg 5436.14 maintenance 175.6  gpumem 10.3  augment 0.000\n",
            "tick 1     kimg 4.0      time 16m 07s      sec/tick 684.3   sec/kimg 171.09  maintenance 20.5   gpumem 10.3  augment 0.036\n",
            "tick 2     kimg 8.0      time 27m 33s      sec/tick 685.4   sec/kimg 171.35  maintenance 0.0    gpumem 10.3  augment 0.074\n",
            "tick 3     kimg 12.0     time 39m 01s      sec/tick 688.3   sec/kimg 172.07  maintenance 0.0    gpumem 10.3  augment 0.109\n",
            "tick 4     kimg 16.0     time 50m 34s      sec/tick 693.1   sec/kimg 173.26  maintenance 0.0    gpumem 10.3  augment 0.145\n",
            "tick 5     kimg 20.0     time 1h 02m 11s   sec/tick 696.6   sec/kimg 174.16  maintenance 0.0    gpumem 10.3  augment 0.182\n",
            "tick 6     kimg 24.0     time 1h 13m 49s   sec/tick 697.6   sec/kimg 174.40  maintenance 0.0    gpumem 10.3  augment 0.218\n",
            "tick 7     kimg 28.0     time 1h 25m 26s   sec/tick 697.3   sec/kimg 174.33  maintenance 0.0    gpumem 10.3  augment 0.243\n",
            "tick 8     kimg 32.0     time 1h 37m 05s   sec/tick 698.9   sec/kimg 174.72  maintenance 0.0    gpumem 10.3  augment 0.262\n",
            "tick 9     kimg 36.0     time 1h 48m 50s   sec/tick 700.7   sec/kimg 175.18  maintenance 4.9    gpumem 10.3  augment 0.299\n",
            "tick 10    kimg 40.0     time 2h 00m 34s   sec/tick 703.7   sec/kimg 175.92  maintenance 0.0    gpumem 10.3  augment 0.336\n",
            "tick 11    kimg 44.0     time 2h 12m 19s   sec/tick 705.2   sec/kimg 176.30  maintenance 0.0    gpumem 10.3  augment 0.371\n",
            "tick 12    kimg 48.0     time 2h 24m 05s   sec/tick 705.9   sec/kimg 176.48  maintenance 0.0    gpumem 10.3  augment 0.407\n",
            "tick 13    kimg 52.0     time 2h 35m 53s   sec/tick 707.4   sec/kimg 176.84  maintenance 0.0    gpumem 10.3  augment 0.439\n",
            "tick 14    kimg 56.0     time 2h 47m 42s   sec/tick 709.6   sec/kimg 177.40  maintenance 0.0    gpumem 10.3  augment 0.475\n",
            "tick 15    kimg 60.0     time 2h 59m 35s   sec/tick 712.7   sec/kimg 178.19  maintenance 0.0    gpumem 10.3  augment 0.508\n",
            "tick 16    kimg 64.0     time 3h 11m 30s   sec/tick 714.7   sec/kimg 178.68  maintenance 0.0    gpumem 10.3  augment 0.542\n",
            "tick 17    kimg 68.0     time 3h 23m 29s   sec/tick 714.6   sec/kimg 178.65  maintenance 4.4    gpumem 10.3  augment 0.576\n",
            "tick 18    kimg 72.0     time 3h 35m 25s   sec/tick 716.1   sec/kimg 179.02  maintenance 0.0    gpumem 10.3  augment 0.609\n",
            "tick 19    kimg 76.0     time 3h 47m 22s   sec/tick 717.3   sec/kimg 179.33  maintenance 0.0    gpumem 10.3  augment 0.641\n",
            "tick 20    kimg 80.0     time 3h 59m 21s   sec/tick 719.3   sec/kimg 179.82  maintenance 0.0    gpumem 10.3  augment 0.675\n",
            "tick 21    kimg 84.0     time 4h 11m 23s   sec/tick 721.8   sec/kimg 180.44  maintenance 0.0    gpumem 10.3  augment 0.708\n",
            "tick 22    kimg 88.0     time 4h 23m 26s   sec/tick 722.7   sec/kimg 180.67  maintenance 0.0    gpumem 10.3  augment 0.739\n",
            "tick 23    kimg 92.0     time 4h 35m 32s   sec/tick 725.6   sec/kimg 181.41  maintenance 0.0    gpumem 10.3  augment 0.773\n",
            "tick 24    kimg 96.0     time 4h 47m 40s   sec/tick 728.2   sec/kimg 182.05  maintenance 0.0    gpumem 10.3  augment 0.804\n",
            "tick 25    kimg 100.0    time 4h 59m 54s   sec/tick 729.0   sec/kimg 182.26  maintenance 5.5    gpumem 10.3  augment 0.836\n",
            "tick 26    kimg 104.0    time 5h 12m 04s   sec/tick 729.4   sec/kimg 182.34  maintenance 0.0    gpumem 10.3  augment 0.870\n",
            "tick 27    kimg 108.0    time 5h 24m 13s   sec/tick 729.1   sec/kimg 182.26  maintenance 0.0    gpumem 10.3  augment 0.901\n",
            "tick 28    kimg 112.0    time 5h 36m 24s   sec/tick 731.1   sec/kimg 182.78  maintenance 0.0    gpumem 10.3  augment 0.932\n",
            "tick 29    kimg 116.0    time 5h 48m 35s   sec/tick 730.8   sec/kimg 182.70  maintenance 0.0    gpumem 10.3  augment 0.965\n",
            "tick 30    kimg 120.0    time 6h 00m 49s   sec/tick 733.9   sec/kimg 183.47  maintenance 0.0    gpumem 10.3  augment 0.996\n",
            "tick 31    kimg 124.0    time 6h 13m 03s   sec/tick 734.6   sec/kimg 183.65  maintenance 0.0    gpumem 10.3  augment 1.026\n",
            "tick 32    kimg 128.0    time 6h 25m 19s   sec/tick 735.6   sec/kimg 183.89  maintenance 0.0    gpumem 10.3  augment 1.057\n",
            "tick 33    kimg 132.0    time 6h 37m 42s   sec/tick 733.6   sec/kimg 183.39  maintenance 9.6    gpumem 10.3  augment 1.088\n",
            "tick 34    kimg 136.0    time 6h 49m 57s   sec/tick 735.0   sec/kimg 183.75  maintenance 0.0    gpumem 10.3  augment 1.118\n",
            "tick 35    kimg 140.0    time 7h 02m 12s   sec/tick 735.1   sec/kimg 183.78  maintenance 0.0    gpumem 10.3  augment 1.148\n",
            "tick 36    kimg 144.0    time 7h 14m 28s   sec/tick 735.5   sec/kimg 183.88  maintenance 0.0    gpumem 10.3  augment 1.181\n",
            "tick 37    kimg 148.0    time 7h 26m 42s   sec/tick 734.0   sec/kimg 183.51  maintenance 0.0    gpumem 10.3  augment 1.212\n",
            "tick 38    kimg 152.0    time 7h 38m 56s   sec/tick 733.9   sec/kimg 183.48  maintenance 0.0    gpumem 10.3  augment 1.243\n",
            "tick 39    kimg 156.0    time 7h 51m 10s   sec/tick 734.0   sec/kimg 183.50  maintenance 0.0    gpumem 10.3  augment 1.272\n",
            "tick 40    kimg 160.0    time 8h 03m 25s   sec/tick 735.0   sec/kimg 183.75  maintenance 0.0    gpumem 10.3  augment 1.303\n",
            "tick 41    kimg 164.0    time 8h 15m 43s   sec/tick 734.1   sec/kimg 183.53  maintenance 4.4    gpumem 10.3  augment 1.326\n",
            "tick 42    kimg 168.0    time 8h 27m 56s   sec/tick 733.1   sec/kimg 183.28  maintenance 0.0    gpumem 10.3  augment 1.360\n",
            "tick 43    kimg 172.0    time 8h 40m 09s   sec/tick 732.6   sec/kimg 183.15  maintenance 0.0    gpumem 10.3  augment 1.390\n",
            "tick 44    kimg 176.0    time 8h 52m 22s   sec/tick 733.3   sec/kimg 183.33  maintenance 0.0    gpumem 10.3  augment 1.415\n",
            "tick 45    kimg 180.0    time 9h 04m 38s   sec/tick 735.4   sec/kimg 183.85  maintenance 0.0    gpumem 10.3  augment 1.425\n",
            "tick 46    kimg 184.0    time 9h 16m 52s   sec/tick 733.9   sec/kimg 183.46  maintenance 0.0    gpumem 10.3  augment 1.457\n",
            "tick 47    kimg 188.0    time 9h 29m 05s   sec/tick 733.3   sec/kimg 183.32  maintenance 0.0    gpumem 10.3  augment 1.490\n",
            "tick 48    kimg 192.0    time 9h 41m 19s   sec/tick 733.8   sec/kimg 183.45  maintenance 0.0    gpumem 10.3  augment 1.521\n",
            "tick 49    kimg 196.0    time 9h 53m 38s   sec/tick 735.0   sec/kimg 183.76  maintenance 4.6    gpumem 10.3  augment 1.550\n",
            "tick 50    kimg 200.0    time 10h 05m 55s  sec/tick 736.4   sec/kimg 184.09  maintenance 0.0    gpumem 10.3  augment 1.582\n",
            "tick 51    kimg 204.0    time 10h 18m 09s  sec/tick 734.4   sec/kimg 183.60  maintenance 0.0    gpumem 10.3  augment 1.612\n",
            "tick 52    kimg 208.0    time 10h 30m 24s  sec/tick 734.6   sec/kimg 183.64  maintenance 0.0    gpumem 10.3  augment 1.644\n",
            "tick 53    kimg 212.0    time 10h 42m 39s  sec/tick 735.5   sec/kimg 183.87  maintenance 0.0    gpumem 10.3  augment 1.675\n",
            "tick 54    kimg 216.0    time 10h 54m 56s  sec/tick 736.8   sec/kimg 184.19  maintenance 0.0    gpumem 10.3  augment 1.707\n"
          ],
          "name": "stdout"
        }
      ]
    },
    {
      "cell_type": "markdown",
      "metadata": {
        "id": "lohotw1FqC54"
      },
      "source": [
        "### While it’s training...\n",
        "**Once the above cell is running you should be training!**\n",
        "\n",
        "Don’t close this tab! Colab needs to be open and running in order to continue training. Every ~15min or so a new line should get added to your output, indicated its still training. Depending on you `snapshot_count` setting you should see the results folder in your Google drive folder fill with both samples (`fakesXXXXXx.jpg`) and model weights (`network-snapshot-XXXXXX.pkl`). The samples are worth looking at while it trains but don’t get too worried about each individual sample.\n",
        "\n",
        "If you chose a metric, you will also see scores for each snapshot. Don’t obsess over these! they are a guide, it can go up or down slightly for each snapshot. What you want to see is a gradual lowering of the score over time.\n",
        "\n",
        "Once Colab shuts off, you can Reconnect the notebook and re-run every cell from top to bottom. Make sure you update the `resume_from` path to continue training from the latest model."
      ]
    },
    {
      "cell_type": "code",
      "metadata": {
        "id": "UZR4ireZE6JF"
      },
      "source": [
        ""
      ],
      "execution_count": null,
      "outputs": []
    }
  ]
}